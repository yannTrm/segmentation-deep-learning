{
 "cells": [
  {
   "cell_type": "markdown",
   "metadata": {},
   "source": [
    "## Test dataset"
   ]
  },
  {
   "cell_type": "code",
   "execution_count": null,
   "metadata": {},
   "outputs": [],
   "source": [
    "import sys\n",
    "sys.path.append('..')\n",
    "\n",
    "import albumentations as A\n",
    "import random"
   ]
  },
  {
   "cell_type": "code",
   "execution_count": null,
   "metadata": {},
   "outputs": [],
   "source": [
    "from dataset import BinarySegmentationDataset, MultiLabelSegmentationDataset\n",
    "from utils import visualize_gray, visualize_binaire\n",
    "from train_eval import get_training_augmentation, get_validation_augmentation, get_portrait_augmentation"
   ]
  },
  {
   "cell_type": "code",
   "execution_count": null,
   "metadata": {},
   "outputs": [],
   "source": [
    "DATA_DIR = \"your/path/to/dataset\"\n",
    "\n",
    "yaml_path = f\"{DATA_DIR}/class_gray_levels.yaml\"\n",
    "\n",
    "binary_dataset = BinarySegmentationDataset.from_yaml(\n",
    "    images_dir=f\"{DATA_DIR}/train\",\n",
    "    masks_dir=f\"{DATA_DIR}/train_mask_gray\",\n",
    "    yaml_path=yaml_path,\n",
    "    augmentation=get_portrait_augmentation()\n",
    ")"
   ]
  },
  {
   "cell_type": "code",
   "execution_count": null,
   "metadata": {},
   "outputs": [],
   "source": [
    "image, mask = binary_dataset[random.randint(0, len(binary_dataset)-1)]\n",
    "visualize_binaire(\n",
    "    image=image,\n",
    "    mask=mask.squeeze(),\n",
    ")"
   ]
  },
  {
   "cell_type": "code",
   "execution_count": null,
   "metadata": {},
   "outputs": [],
   "source": [
    "multilabel_dataset = MultiLabelSegmentationDataset.from_yaml(\n",
    "    images_dir=f\"{DATA_DIR}/train\",\n",
    "    masks_dir=f\"{DATA_DIR}/train_mask_gray\",\n",
    "    yaml_path=yaml_path,\n",
    "    augmentation=get_portrait_augmentation(),\n",
    ")"
   ]
  },
  {
   "cell_type": "code",
   "execution_count": null,
   "metadata": {},
   "outputs": [],
   "source": [
    "import random\n",
    "import numpy as np\n",
    "\n",
    "# Charger une image et un masque aléatoire\n",
    "image, mask, name = multilabel_dataset.get(random.randint(0, len(multilabel_dataset) - 1))\n",
    "\n",
    "# Afficher des informations sur le masque\n",
    "print(f\"Mask shape: {mask.shape}\")\n",
    "unique_values = np.unique(mask)\n",
    "num_unique_values = len(unique_values)\n",
    "print(f\"Number of different values in mask: {num_unique_values}\")\n",
    "print(f\"Unique values in mask: {unique_values}\")\n",
    "\n",
    "class_mapping = multilabel_dataset.value_to_class\n",
    "# Visualiser l'image et le masque\n",
    "visualize_gray(image, mask, class_mapping)\n",
    "print(f\"Image name: {name}\")"
   ]
  }
 ],
 "metadata": {
  "kernelspec": {
   "display_name": "base",
   "language": "python",
   "name": "python3"
  },
  "language_info": {
   "codemirror_mode": {
    "name": "ipython",
    "version": 3
   },
   "file_extension": ".py",
   "mimetype": "text/x-python",
   "name": "python",
   "nbconvert_exporter": "python",
   "pygments_lexer": "ipython3",
   "version": "3.12.3"
  }
 },
 "nbformat": 4,
 "nbformat_minor": 2
}
