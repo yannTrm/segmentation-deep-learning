{
 "cells": [
  {
   "cell_type": "markdown",
   "metadata": {},
   "source": [
    "## test training with real data"
   ]
  },
  {
   "cell_type": "code",
   "execution_count": null,
   "metadata": {},
   "outputs": [],
   "source": [
    "import sys\n",
    "sys.path.append('..')\n",
    "\n",
    "import os"
   ]
  },
  {
   "cell_type": "code",
   "execution_count": null,
   "metadata": {},
   "outputs": [],
   "source": [
    "from torch.optim import Adam\n",
    "from torch.optim.lr_scheduler import CosineAnnealingLR\n",
    "\n",
    "from torch.utils.data import DataLoader\n",
    "import segmentation_models_pytorch as smp\n",
    "import pytorch_lightning as pl\n",
    "\n",
    "\n",
    "from pytorch_lightning.callbacks import ModelCheckpoint\n"
   ]
  },
  {
   "cell_type": "code",
   "execution_count": null,
   "metadata": {},
   "outputs": [],
   "source": [
    "from dataset import BinarySegmentationDataset, MultiLabelSegmentationDataset\n",
    "from utils import visualize_gray, visualize_binaire\n",
    "from train_eval import get_training_augmentation, get_validation_augmentation, get_portrait_validation_augmentation, get_portrait_augmentation, get_landscape_augmentation, get_landscape_validation_augmentation\n",
    "from train_eval import BinarySegmentationModel, MulticlassSegmentationModel\n",
    "\n"
   ]
  },
  {
   "cell_type": "code",
   "execution_count": null,
   "metadata": {},
   "outputs": [],
   "source": [
    "DATA_DIR = \"your/path/to/dataset\"\n",
    "\n",
    "yaml_path = f\"{DATA_DIR}/class_gray_levels.yaml\"\n",
    "\n",
    "binary_dataset = BinarySegmentationDataset.from_yaml(\n",
    "    images_dir=f\"{DATA_DIR}/val\",\n",
    "    masks_dir=f\"{DATA_DIR}/val_mask_gray\",\n",
    "    yaml_path=yaml_path,\n",
    "    augmentation=get_training_augmentation()\n",
    ")\n",
    "\n",
    "\n",
    "train_loader = DataLoader(binary_dataset, batch_size=8, shuffle=True, num_workers=4)\n"
   ]
  },
  {
   "cell_type": "code",
   "execution_count": null,
   "metadata": {},
   "outputs": [],
   "source": [
    "model = BinarySegmentationModel(\n",
    "    arch=\"Unet\",\n",
    "    encoder_name=\"resnet34\",\n",
    "    in_channels=3,\n",
    "    loss_fn=smp.losses.FocalLoss(smp.losses.BINARY_MODE),\n",
    "    optimizer=Adam,\n",
    "    optimizer_kwargs={\"lr\": 2e-4},\n",
    "    lr_scheduler=CosineAnnealingLR,\n",
    "    lr_scheduler_kwargs={\"T_max\": 50, \"eta_min\": 1e-5},\n",
    "    save_interval=1, \n",
    ")\n",
    "\n",
    "trainer = pl.Trainer(max_epochs=2)\n",
    "trainer.fit(model, train_loader, train_loader)"
   ]
  },
  {
   "cell_type": "code",
   "execution_count": null,
   "metadata": {},
   "outputs": [],
   "source": [
    "DATA_DIR = \"your/path/to/dataset\"\n",
    "\n",
    "yaml_path = f\"{DATA_DIR}/class_gray_levels.yaml\"\n",
    "\n",
    "binary_dataset = MultiLabelSegmentationDataset.from_yaml(\n",
    "    images_dir=f\"{DATA_DIR}/val\",\n",
    "    masks_dir=f\"{DATA_DIR}/val_mask_gray\",\n",
    "    yaml_path=yaml_path,\n",
    "    augmentation=get_portrait_augmentation()\n",
    ")\n",
    "num_classe = binary_dataset.get_num_classes()\n",
    "print(num_classe)\n",
    "\n",
    "train_loader = DataLoader(binary_dataset, batch_size=4, shuffle=True, num_workers=4)"
   ]
  },
  {
   "cell_type": "code",
   "execution_count": null,
   "metadata": {},
   "outputs": [],
   "source": [
    "run_name = \"test0\"\n",
    "\n",
    "\n",
    "model = MulticlassSegmentationModel(\n",
    "    arch=\"Unet\",\n",
    "    encoder_name=\"resnet34\",\n",
    "    in_channels=3,\n",
    "    out_classes=num_classe,  \n",
    "    loss_fn=smp.losses.FocalLoss(smp.losses.MULTICLASS_MODE),  \n",
    "    optimizer=Adam,\n",
    "    optimizer_kwargs={\"lr\": 2e-4},\n",
    "    lr_scheduler=CosineAnnealingLR,\n",
    "    lr_scheduler_kwargs={\"T_max\": 50, \"eta_min\": 1e-5},\n",
    "    save_interval=1,  \n",
    ")\n",
    "\n",
    "\n",
    "checkpoint_callback = ModelCheckpoint(\n",
    "    dirpath=f\"logs/{run_name}/best_models\",  \n",
    "    filename=\"best-model-{epoch:02d}-{val_loss:.2f}\", \n",
    "    monitor=\"val_loss\",  \n",
    "    mode=\"min\", \n",
    "    save_top_k=1,  \n",
    "    save_last=True, \n",
    ")\n",
    "\n",
    "\n",
    "trainer = pl.Trainer( max_epochs=2, callbacks=[checkpoint_callback], default_root_dir=f\"logs/{run_name}\") \n",
    "trainer.fit(model, train_loader, train_loader)"
   ]
  }
 ],
 "metadata": {
  "kernelspec": {
   "display_name": "base",
   "language": "python",
   "name": "python3"
  },
  "language_info": {
   "codemirror_mode": {
    "name": "ipython",
    "version": 3
   },
   "file_extension": ".py",
   "mimetype": "text/x-python",
   "name": "python",
   "nbconvert_exporter": "python",
   "pygments_lexer": "ipython3",
   "version": "3.12.3"
  }
 },
 "nbformat": 4,
 "nbformat_minor": 2
}
